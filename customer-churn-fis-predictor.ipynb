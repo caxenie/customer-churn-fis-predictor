{
 "cells": [
  {
   "cell_type": "markdown",
   "metadata": {},
   "source": [
    "# Customer churn prediction using Fuzzy Inference Systems\n",
    "\n",
    "*Skeleton code for using FIS in customer churn. Example for car sharing fleet management and maintenance tickets*"
   ]
  },
  {
   "cell_type": "code",
   "execution_count": null,
   "metadata": {},
   "outputs": [],
   "source": [
    "import numpy as np\n",
    "import skfuzzy as fuzz\n",
    "from skfuzzy import control as ctrl\n",
    "%matplotlib inline\n",
    "import matplotlib.pyplot as plt\n",
    "from IPython.core.interactiveshell import InteractiveShell\n",
    "InteractiveShell.ast_node_interactivity = \"all\""
   ]
  },
  {
   "cell_type": "code",
   "execution_count": null,
   "metadata": {},
   "outputs": [],
   "source": [
    "# Read csv\n",
    "def read_sensor(path):\n",
    "    return np.genfromtxt(path, delimiter = ',')"
   ]
  },
  {
   "cell_type": "code",
   "execution_count": null,
   "metadata": {},
   "outputs": [],
   "source": [
    "# data location set \n",
    "pathActiveCarsInFleet = 'customer_nrActiveCarsInFleet_raw.csv'\n",
    "pathMaintenanceTickets = 'customer_nrMaintenanceTickets_raw.csv'\n",
    "\n",
    "# load data\n",
    "dataActiveCarsInFleet = read_sensor(pathActiveCarsInFleet)\n",
    "dataMaintenanceTickets = read_sensor(pathMaintenanceTickets)"
   ]
  },
  {
   "cell_type": "code",
   "execution_count": null,
   "metadata": {},
   "outputs": [],
   "source": [
    "# random seed init\n",
    "np.random.seed(0)\n",
    "# build the fuzzy inference variables\n",
    "# inputs\n",
    "nrActiveCarsInFleet = ctrl.Antecedent(universe=np.arange(min(dataActiveCarsInFleet), max(dataActiveCarsInFleet), 1), label='nrActiveCarsInFleet')\n",
    "nrMaintenanceTickets = ctrl.Antecedent(universe=np.arange(min(dataMaintenanceTickets), max(dataMaintenanceTickets), 1), label='nrMaintenanceTickets')\n",
    "# output\n",
    "churnProbability = ctrl.Consequent(universe=np.arange(0, 101, 1), label='churnProbability')"
   ]
  },
  {
   "cell_type": "code",
   "execution_count": null,
   "metadata": {},
   "outputs": [],
   "source": [
    "# parametrize the variables membership functions\n",
    "# inputs\n",
    "nrActiveCarsInFleet.automf(number=3, variable_type='number', names=['low', 'medium', 'high'])\n",
    "nrMaintenanceTickets.automf(number=3, variable_type='number', names=['low', 'medium', 'high'])\n",
    "# output\n",
    "churnProbability['low'] = fuzz.trimf(x=churnProbability.universe, abc=[0, 0, 50])\n",
    "churnProbability['medium'] = fuzz.trimf(x=churnProbability.universe, abc=[0, 50, 100])\n",
    "churnProbability['high'] = fuzz.trimf(x=churnProbability.universe, abc=[50, 100, 100])"
   ]
  },
  {
   "cell_type": "code",
   "execution_count": null,
   "metadata": {},
   "outputs": [],
   "source": [
    "# add the Business Intelligence rules for churning\n",
    "rule1 = ctrl.Rule(\n",
    "    antecedent=nrActiveCarsInFleet['low'] & nrMaintenanceTickets['low'],\n",
    "    consequent=churnProbability['low']\n",
    ")\n",
    "\n",
    "rule2 = ctrl.Rule(\n",
    "    antecedent=nrActiveCarsInFleet['low'] & nrMaintenanceTickets['medium'],\n",
    "    consequent=churnProbability['medium']\n",
    ")\n",
    "\n",
    "rule3 = ctrl.Rule(\n",
    "    antecedent=nrActiveCarsInFleet['medium'] & nrMaintenanceTickets['low'],\n",
    "    consequent=churnProbability['low']\n",
    ")\n",
    "\n",
    "rule4 = ctrl.Rule(\n",
    "    antecedent=nrActiveCarsInFleet['medium'] & nrMaintenanceTickets['medium'],\n",
    "    consequent=churnProbability['medium']\n",
    ")\n",
    "\n",
    "rule5 = ctrl.Rule(\n",
    "    antecedent=nrActiveCarsInFleet['high'] & nrMaintenanceTickets['low'],\n",
    "    consequent=churnProbability['low']\n",
    ")\n",
    "\n",
    "rule6 = ctrl.Rule(\n",
    "    antecedent=nrActiveCarsInFleet['low'] & nrMaintenanceTickets['high'],\n",
    "    consequent=churnProbability['high']\n",
    ")\n",
    "\n",
    "\n",
    "rule7 = ctrl.Rule(\n",
    "    antecedent=nrActiveCarsInFleet['medium'] & nrMaintenanceTickets['high'],\n",
    "    consequent=churnProbability['high']\n",
    ")"
   ]
  },
  {
   "cell_type": "code",
   "execution_count": null,
   "metadata": {},
   "outputs": [],
   "source": [
    "# build the inference engine\n",
    "churnProbability_ctrl = ctrl.ControlSystem(rules=[rule1, rule2, rule3, rule4, rule5, rule6, rule7])\n",
    "\n",
    "# build \n",
    "churnProbability = ctrl.ControlSystemSimulation(control_system=churnProbability_ctrl)\n",
    "churnProbability.reset()"
   ]
  },
  {
   "cell_type": "code",
   "execution_count": null,
   "metadata": {},
   "outputs": [],
   "source": [
    "# predict\n",
    "for i in range(len(dataActiveCarsInFleet)):\n",
    "    churnProbability.inputs({\n",
    "        'nrActiveCarsInFleet': dataActiveCarsInFleet[i],\n",
    "        'nrMaintenanceTickets': dataMaintenanceTickets[i]\n",
    "    })\n",
    "    churnProbability.compute()\n",
    "    churnProbability.output['churnProbability']"
   ]
  }
 ],
 "metadata": {
  "kernelspec": {
   "display_name": "Python 3",
   "language": "python",
   "name": "python3"
  },
  "language_info": {
   "codemirror_mode": {
    "name": "ipython",
    "version": 3
   },
   "file_extension": ".py",
   "mimetype": "text/x-python",
   "name": "python",
   "nbconvert_exporter": "python",
   "pygments_lexer": "ipython3",
   "version": "3.5.2"
  }
 },
 "nbformat": 4,
 "nbformat_minor": 2
}
